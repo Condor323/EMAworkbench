{
 "cells": [
  {
   "cell_type": "markdown",
   "source": [
    "# MPIEvaluator: Run on multi-node HPC systems\n",
    "\n",
    "The `MPIEvaluator` is a new addition to the EMAworkbench that allows experiment execution on multi-node systems, including high-performance computers (HPCs). This capability is particularly useful if you want to conduct large-scale experiments that require distributed processing. Under the hood, the evaluator leverages the `MPIPoolExecutor` from [`mpi4py.futures`](https://mpi4py.readthedocs.io/en/stable/mpi4py.futures.html).\n",
    "\n",
    "#### Limiations\n",
    "- Currently, the MPIEvaluator is only tested on Linux, while it might work on other operating systems.\n",
    "- Currently, the MPIEvaluator only works with Python-based models, and won't work with file-based model types (like NetLogo or Vensim).\n",
    "- The MPIEvaluator is most useful for large-scale experiments, where the time spent on distributing the experiments over the cluster is negligible compared to the time spent on running the experiments. For smaller experiments, the overhead of distributing the experiments over the cluster might be significant, and it might be more efficient to run the experiments locally.\n",
    "\n",
    "The MPIEvaluator is experimental and its interface and functionality might change in future releases. We appreciate feedback on the MPIEvaluator, share any thoughts about it at https://github.com/quaquel/EMAworkbench/discussions/311.\n",
    "\n",
    "#### Contents\n",
    "This tutorial will first show how to set up the environment, and then how to use the MPIEvaluator to run a model on a cluster. Finally, we'll use the [DelftBlue supercomputer](https://doc.dhpc.tudelft.nl/delftblue/) as an example, to show how to run on a system which uses a SLURM scheduler."
   ],
   "metadata": {
    "collapsed": false
   },
   "id": "f3a7c04021f471a7"
  },
  {
   "cell_type": "markdown",
   "source": [
    "## 1. Setting up the environment\n",
    "To use the MPIEvaluator, MPI and mpi4py must be installed. \n",
    "\n",
    "Installing MPI on Linux typically involves the installation of a popular MPI implementation such as OpenMPI or MPICH. Below are the instructions for installing OpenMPI:\n",
    "\n",
    "### 1a. Installing OpenMPI\n",
    "\n",
    "_If you use conda, it might install MPI automatically along when installing mpi4py (see 1b)._\n",
    "\n",
    "You can install OpenMPI using you package manager. First, update your package repositories, and then install OpenMPI:\n",
    "   \n",
    "   For **Debian/Ubuntu**:\n",
    "   ```bash\n",
    "   sudo apt update\n",
    "   sudo apt install openmpi-bin libopenmpi-dev\n",
    "   ```\n",
    "\n",
    "   For **Fedora**:\n",
    "   ```bash\n",
    "   sudo dnf check-update\n",
    "   sudo dnf install openmpi openmpi-devel\n",
    "   ```\n",
    "\n",
    "   For **CentOS/RHEL**:\n",
    "   ```bash\n",
    "   sudo yum update\n",
    "   sudo yum install openmpi openmpi-devel\n",
    "   ```\n",
    "\n",
    "Many times, the necessary environment variables are automatically set up. You can check if this is the case by running the following command:\n",
    "\n",
    "   ```bash\n",
    "   mpiexec --version\n",
    "   ```\n",
    "\n",
    "If not, add OpenMPI's `bin` directory to your `PATH`:\n",
    "\n",
    "   ```bash\n",
    "   export PATH=$PATH:/usr/lib/openmpi/bin\n",
    "   ```\n",
    "\n",
    "### 1b. Installing mpi4py\n",
    "The python package mpi4py needs to installed as well. This is most easily done [from PyPI](https://pypi.org/project/mpi4py/), by running the following command:\n",
    "```bash\n",
    "pip install -U mpi4py\n",
    "```"
   ],
   "metadata": {
    "collapsed": false
   },
   "id": "93f999bb09734a30"
  },
  {
   "cell_type": "markdown",
   "source": [
    "## 2. Creating a model\n",
    "First, let's set up a minimal model to test with. This can be any Python-based model, we're using the [`example_python.py`](https://emaworkbench.readthedocs.io/en/latest/examples/example_python.html) model from the EMA Workbench documentation as example.\n",
    "\n",
    "We recommend crafting and testing your model in a separate Python file, and then importing it into your main script. This way, you can test your model without having to run it through the MPIEvaluator, and you can easily switch between running it locally and on a cluster.\n",
    "\n",
    "### 2a. Define the model\n",
    "First, we define a Python model function."
   ],
   "metadata": {
    "collapsed": false
   },
   "id": "203ca7e78198c2e5"
  },
  {
   "cell_type": "code",
   "execution_count": null,
   "outputs": [],
   "source": [
    "def some_model(x1=None, x2=None, x3=None):\n",
    "    return {\"y\": x1 * x2 + x3}"
   ],
   "metadata": {
    "collapsed": false
   },
   "id": "16974ce8be11ba65"
  },
  {
   "cell_type": "markdown",
   "source": [
    "Now, create the EMAworkbench model object, and specify the uncertainties and outcomes:"
   ],
   "metadata": {
    "collapsed": false
   },
   "id": "6a13cf8baa10597c"
  },
  {
   "cell_type": "code",
   "execution_count": null,
   "id": "initial_id",
   "metadata": {
    "collapsed": true
   },
   "outputs": [],
   "source": [
    "from ema_workbench import Model, RealParameter, ScalarOutcome, ema_logging, perform_experiments\n",
    "\n",
    "if __name__ == \"__main__\":\n",
    "    # We recommend setting pass_root_logger_level=True when running on a cluster, to ensure consistent log levels.\n",
    "    ema_logging.log_to_stderr(level=ema_logging.INFO, pass_root_logger_level=True)\n",
    "\n",
    "    ema_model = Model(\"simpleModel\", function=some_model)  # instantiate the model\n",
    "\n",
    "    # specify uncertainties\n",
    "    ema_model.uncertainties = [\n",
    "        RealParameter(\"x1\", 0.1, 10),\n",
    "        RealParameter(\"x2\", -0.01, 0.01),\n",
    "        RealParameter(\"x3\", -0.01, 0.01),\n",
    "    ]\n",
    "    # specify outcomes\n",
    "    ema_model.outcomes = [ScalarOutcome(\"y\")]"
   ]
  },
  {
   "cell_type": "markdown",
   "source": [
    "### 2b. Test the model\n",
    "Now, we can run the model locally to test it:"
   ],
   "metadata": {
    "collapsed": false
   },
   "id": "33a9d08b66e7f92c"
  },
  {
   "cell_type": "code",
   "execution_count": null,
   "outputs": [],
   "source": [
    "from ema_workbench import SequentialEvaluator\n",
    "\n",
    "with SequentialEvaluator(ema_model) as evaluator:\n",
    "    results = perform_experiments(ema_model, 100, evaluator=evaluator)"
   ],
   "metadata": {
    "collapsed": false
   },
   "id": "a3bb51cc5ae8ef7c"
  },
  {
   "cell_type": "markdown",
   "source": [
    "In this stage, you can test your model and make sure it works as expected. You can also check if everything is included in the results and do initial validation on the model, before scaling up to a cluster."
   ],
   "metadata": {
    "collapsed": false
   },
   "id": "b410deb34e956178"
  },
  {
   "cell_type": "markdown",
   "source": [
    "## 3. Run the model on a MPI cluster\n",
    "Now that we have a working model, we can run it on a cluster. To do this, we need to import the `MPIEvaluator` class from the `ema_workbench` package, and instantiate it with our model. Then, we can use the `perform_experiments` function as usual, and the MPIEvaluator will take care of distributing the experiments over the cluster. Finally, we can save the results to a pickle file, as usual."
   ],
   "metadata": {
    "collapsed": false
   },
   "id": "268ae4235c66dd83"
  },
  {
   "cell_type": "code",
   "execution_count": null,
   "outputs": [],
   "source": [
    "# ema_example_model.py\n",
    "from ema_workbench import (\n",
    "    Model,\n",
    "    RealParameter,\n",
    "    ScalarOutcome,\n",
    "    ema_logging,\n",
    "    perform_experiments,\n",
    "    MPIEvaluator,\n",
    "    save_results,\n",
    ")\n",
    "import pickle\n",
    "\n",
    "def some_model(x1=None, x2=None, x3=None):\n",
    "    return {\"y\": x1 * x2 + x3}\n",
    "\n",
    "if __name__ == \"__main__\":\n",
    "    ema_logging.log_to_stderr(level=ema_logging.INFO, pass_root_logger_level=True)\n",
    "\n",
    "    ema_model = Model(\"simpleModel\", function=some_model)\n",
    "\n",
    "    ema_model.uncertainties = [\n",
    "        RealParameter(\"x1\", 0.1, 10),\n",
    "        RealParameter(\"x2\", -0.01, 0.01),\n",
    "        RealParameter(\"x3\", -0.01, 0.01),\n",
    "    ]\n",
    "    ema_model.outcomes = [ScalarOutcome(\"y\")]\n",
    "\n",
    "    # Note that we switch to the MPIEvaluator here\n",
    "    with MPIEvaluator(ema_model) as evaluator:\n",
    "        results = evaluator.perform_experiments(scenarios=10000)\n",
    "\n",
    "    # Save the results\n",
    "    save_results(results, \"ema_mpi_test.tar.gz\")"
   ],
   "metadata": {
    "collapsed": false
   },
   "id": "fae9c15d70d18454"
  },
  {
   "cell_type": "markdown",
   "source": [
    "To run this script on a cluster, we need to use the `mpiexec` command:\n",
    "   ```bash\n",
    "   mpiexec python3 -m mpi4py.futures ema_example_model.py\n",
    "   ```\n",
    "This command will execute the `ema_example_model.py` Python script using MPI, leveraging the `mpi4py.futures` module for parallel processing. The number of processes and other MPI-specific configurations would be inferred from default settings or any configurations provided elsewhere, such as in an MPI configuration file or additional flags to `mpiexec` (not shown in the provided command).\n",
    "\n",
    "The output of the script will be saved to the `ema_mpi_test.pickle` file, which can be loaded and analyzed as usual."
   ],
   "metadata": {
    "collapsed": false
   },
   "id": "373e62cf3af804b3"
  },
  {
   "cell_type": "markdown",
   "source": [],
   "metadata": {
    "collapsed": false
   },
   "id": "2cfb1215beb5fe5a"
  }
 ],
 "metadata": {
  "kernelspec": {
   "display_name": "Python 3",
   "language": "python",
   "name": "python3"
  },
  "language_info": {
   "codemirror_mode": {
    "name": "ipython",
    "version": 2
   },
   "file_extension": ".py",
   "mimetype": "text/x-python",
   "name": "python",
   "nbconvert_exporter": "python",
   "pygments_lexer": "ipython2",
   "version": "2.7.6"
  },
  "nbsphinx": {
   "execute": "never"
  }
 },
 "nbformat": 4,
 "nbformat_minor": 5
}
