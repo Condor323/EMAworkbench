{
 "cells": [
  {
   "cell_type": "code",
   "execution_count": null,
   "id": "initial_id",
   "metadata": {
    "collapsed": true
   },
   "outputs": [],
   "source": [
    "import pickle\n",
    "import pandas as pd\n",
    "import seaborn as sns"
   ]
  },
  {
   "cell_type": "code",
   "execution_count": null,
   "outputs": [],
   "source": [
    "# read ../benchmarks_results.pickle\n",
    "with open('../benchmark_results2.pickle', 'rb') as f:\n",
    "    results = pickle.load(f)"
   ],
   "metadata": {
    "collapsed": false
   },
   "id": "39dc48e867b713f7"
  },
  {
   "cell_type": "code",
   "execution_count": null,
   "outputs": [],
   "source": [
    "results"
   ],
   "metadata": {
    "collapsed": false
   },
   "id": "d2f585436e18fac"
  },
  {
   "cell_type": "code",
   "execution_count": null,
   "outputs": [],
   "source": [
    "# Step 1: Flatten the nested dictionary\n",
    "flattened_data = []\n",
    "for model_name, evaluator_data in results.items():\n",
    "    for evaluator_name, time_taken in evaluator_data.items():\n",
    "        for time_value in time_taken:\n",
    "            flattened_data.append((model_name, evaluator_name, time_value))\n",
    "\n",
    "# Step 2: Convert the flattened data into a pandas DataFrame\n",
    "df = pd.DataFrame(flattened_data, columns=[\"Model\", \"Evaluator\", \"TimeTaken\"])\n",
    "df.head()"
   ],
   "metadata": {
    "collapsed": false
   },
   "id": "f6a9b805227cea23"
  },
  {
   "cell_type": "code",
   "execution_count": null,
   "outputs": [],
   "source": [
    "# For each evaluator, create a boxplot with Seaborn\n",
    "sns.boxplot(x=\"Evaluator\", y=\"TimeTaken\", data=df)"
   ],
   "metadata": {
    "collapsed": false
   },
   "id": "d39355d294702e24"
  },
  {
   "cell_type": "code",
   "execution_count": null,
   "outputs": [],
   "source": [
    "import matplotlib.pyplot as plt\n",
    "plt.figure(figsize=(10, 6))\n",
    "sns.boxplot(data=df, x=\"Model\", y=\"TimeTaken\", hue=\"Evaluator\")\n",
    "plt.title(\"Boxplot of Models vs. TimeTaken for different Evaluators\")\n",
    "plt.show()"
   ],
   "metadata": {
    "collapsed": false
   },
   "id": "2b67d6f2782b6cb2"
  },
  {
   "cell_type": "code",
   "execution_count": null,
   "outputs": [],
   "source": [
    "experiments_dict = {\n",
    "    \"python\": 10000,\n",
    "    \"lake\": 1000,\n",
    "    \"flu\": 250,\n",
    "}"
   ],
   "metadata": {
    "collapsed": false
   },
   "id": "9c308b01798f9dbf"
  },
  {
   "cell_type": "code",
   "execution_count": null,
   "outputs": [],
   "source": [
    "# Assuming df is your dataframe\n",
    "unique_evaluators = df[\"Evaluator\"].unique()\n",
    "palette = sns.color_palette(\"pastel\", len(unique_evaluators))\n",
    "\n",
    "g = sns.FacetGrid(df, col=\"Model\", col_wrap=3, height=5, sharey=False)\n",
    "g = g.map_dataframe(sns.boxplot, x=\"Evaluator\", y=\"TimeTaken\", hue=\"Evaluator\", showmeans=True, showfliers=False)\n",
    "# Set y-axis label\n",
    "g.set_axis_labels(\"Evaluator\", \"Time (in seconds)\\n(lower is better)\")\n",
    "# Set subplot titles\n",
    "for ax, title in zip(g.axes.flat, df[\"Model\"].unique()):\n",
    "    ax.set_title(f\"model = {title}\\nexperiments = {experiments_dict[title]}\")\n",
    "# set title\n",
    "g.fig.suptitle(\"Total runtime of different models and evaluators\", y=1.1)\n",
    "g.set(ylim=(0, None))\n",
    "# Add subscript\n",
    "g.fig.text(0.5, -0.05, \"The mean is shown as a green triangle.\\n10 replications have been done for each model and evaluator combination. Outliers are not shown.\\nPython 3.10.12 | Ubuntu 22.04 via WSL2 | Core i7-12700H | n_processes = 10\", ha=\"center\", fontsize=8)\n",
    "\n",
    "plt.show()\n",
    "\n",
    "# Save figure as svg\n",
    "g.savefig(\"boxplot.svg\")"
   ],
   "metadata": {
    "collapsed": false
   },
   "id": "364a9713072b16c8"
  },
  {
   "cell_type": "code",
   "execution_count": null,
   "outputs": [],
   "source": [
    "# Calculate the average time taken for each model and evaluator\n",
    "mean_df = df.groupby([\"Model\", \"Evaluator\"]).mean()\n",
    "mean_df"
   ],
   "metadata": {
    "collapsed": false
   },
   "id": "51507da432625cbe"
  },
  {
   "cell_type": "code",
   "execution_count": null,
   "outputs": [],
   "source": [
    "# Convert to table, with the evaluators as columns\n",
    "mean_df = mean_df.reset_index().pivot(index=\"Model\", columns=\"Evaluator\", values=\"TimeTaken\")\n",
    "mean_df"
   ],
   "metadata": {
    "collapsed": false
   },
   "id": "a8251c353c294a87"
  },
  {
   "cell_type": "code",
   "execution_count": null,
   "outputs": [],
   "source": [
    "# normalize on SequentialEvaluator\n",
    "mean_df = mean_df.div(mean_df[\"SequentialEvaluator\"], axis=0)"
   ],
   "metadata": {
    "collapsed": false
   },
   "id": "641b8f4028869b55"
  },
  {
   "cell_type": "code",
   "execution_count": null,
   "outputs": [],
   "source": [
    "# Take the inverse, so that higher is better\n",
    "mean_df = 1 / mean_df"
   ],
   "metadata": {
    "collapsed": false
   },
   "id": "b644f1153acdf4d9"
  },
  {
   "cell_type": "code",
   "execution_count": null,
   "outputs": [],
   "source": [
    "# Revert the column and row order\n",
    "mean_df = mean_df[[\"SequentialEvaluator\", \"MultiprocessingEvaluator\", \"MPIEvaluator\"]]\n",
    "mean_df = mean_df.reindex([\"python\", \"lake\", \"flu\"])"
   ],
   "metadata": {
    "collapsed": false
   },
   "id": "24ffc481f294e6c7"
  },
  {
   "cell_type": "code",
   "execution_count": null,
   "outputs": [],
   "source": [
    "# Color the table, with green above 1, and red below 1\n",
    "def color_red_green(val):\n",
    "    color = 'green' if val > 1 else 'red'\n",
    "    return 'color: %s' % color\n",
    "\n",
    "mean_df.style.applymap(color_red_green)"
   ],
   "metadata": {
    "collapsed": false
   },
   "id": "99b786928b768e06"
  },
  {
   "cell_type": "code",
   "execution_count": null,
   "outputs": [],
   "source": [
    "# Round to two decimal places\n",
    "mean_df = mean_df.round(3)\n",
    "mean_df"
   ],
   "metadata": {
    "collapsed": false
   },
   "id": "9055d97d832e6cb9"
  },
  {
   "cell_type": "code",
   "execution_count": null,
   "outputs": [],
   "source": [
    "# convert to markdown table\n",
    "print(mean_df.to_markdown())"
   ],
   "metadata": {
    "collapsed": false
   },
   "id": "5fc1edd34acec517"
  },
  {
   "cell_type": "code",
   "execution_count": null,
   "outputs": [],
   "source": [
    "# Divide the MultiprocessingEvaluator and MPIEvaluator by 10\n",
    "mean_df[\"MultiprocessingEvaluator\"] = mean_df[\"MultiprocessingEvaluator\"] / 10\n",
    "mean_df[\"MPIEvaluator\"] = mean_df[\"MPIEvaluator\"] / 10\n",
    "print(mean_df.to_markdown())"
   ],
   "metadata": {
    "collapsed": false
   },
   "id": "bc855dcfc23a3efb"
  },
  {
   "cell_type": "code",
   "execution_count": null,
   "outputs": [],
   "source": [],
   "metadata": {
    "collapsed": false
   },
   "id": "25620f52a5805528"
  }
 ],
 "metadata": {
  "kernelspec": {
   "display_name": "Python 3",
   "language": "python",
   "name": "python3"
  },
  "language_info": {
   "codemirror_mode": {
    "name": "ipython",
    "version": 2
   },
   "file_extension": ".py",
   "mimetype": "text/x-python",
   "name": "python",
   "nbconvert_exporter": "python",
   "pygments_lexer": "ipython2",
   "version": "2.7.6"
  }
 },
 "nbformat": 4,
 "nbformat_minor": 5
}
